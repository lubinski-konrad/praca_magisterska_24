{
 "cells": [
  {
   "cell_type": "markdown",
   "metadata": {},
   "source": [
    "<h1> Case Study: Netflix"
   ]
  },
  {
   "cell_type": "markdown",
   "metadata": {},
   "source": [
    "<h2> Zaimportuj Pakiety"
   ]
  },
  {
   "cell_type": "code",
   "execution_count": 1,
   "metadata": {},
   "outputs": [],
   "source": [
    "import pandas as pd\n",
    "import numpy as np\n",
    "import warnings\n",
    "import lxml\n",
    "import requests\n",
    "from bs4 import BeautifulSoup\n",
    "import openpyxl as xl\n",
    "warnings.filterwarnings(\"ignore\")"
   ]
  },
  {
   "cell_type": "markdown",
   "metadata": {},
   "source": [
    "<h2> Zaczytaj Dane"
   ]
  },
  {
   "cell_type": "code",
   "execution_count": 2,
   "metadata": {},
   "outputs": [],
   "source": [
    "content_df = pd.read_csv(r\"/Users/kasiabonter/Desktop/Netflix Datasets/Netflix_Productions_Data.csv\")\n",
    "app_reviews_df = pd.read_csv(r\"/Users/kasiabonter/Desktop/Netflix Datasets/Netflix_App_Reviews_Data.csv\")\n",
    "users_reviews_df = pd.read_csv(r\"/Users/kasiabonter/Desktop/Netflix Datasets/Netflix_Users_Reviews.csv\")\n",
    "critics_reviews_df = pd.read_csv(r\"/Users/kasiabonter/Desktop/Netflix Datasets/Netflix_Critics_Reviews.csv\")\n",
    "shows_links_df = pd.read_csv(r\"/Users/kasiabonter/Desktop/Netflix Datasets/Netflix_TV_Shows_Links.csv\")"
   ]
  },
  {
   "cell_type": "markdown",
   "metadata": {},
   "source": [
    "<h2> Czyszczenie Danych"
   ]
  },
  {
   "cell_type": "markdown",
   "metadata": {},
   "source": [
    "<h3> Braki Danych"
   ]
  },
  {
   "cell_type": "code",
   "execution_count": 3,
   "metadata": {},
   "outputs": [
    {
     "name": "stdout",
     "output_type": "stream",
     "text": [
      "                   # of NaNs\n",
      "seasons                 3744\n",
      "age_certification       2619\n",
      "imdb_votes               498\n",
      "imdb_score               482\n",
      "imdb_id                  403\n",
      "tmdb_score               311\n",
      "tmdb_popularity           91\n",
      "description               18\n",
      "title                      1\n"
     ]
    }
   ],
   "source": [
    "def count_of_nans():\n",
    "    nan_counts = content_df.isna().sum()\n",
    "    nan_counts = nan_counts.to_frame()\n",
    "    nan_counts = nan_counts.rename(columns={0: '# of NaNs'})\n",
    "    nan_counts = nan_counts[nan_counts['# of NaNs']!=0]\n",
    "    nan_counts.sort_values(by='# of NaNs', ascending=False, inplace=True)\n",
    "    print(nan_counts)\n",
    "\n",
    "count_of_nans()"
   ]
  },
  {
   "cell_type": "code",
   "execution_count": 4,
   "metadata": {},
   "outputs": [
    {
     "name": "stdout",
     "output_type": "stream",
     "text": [
      "Empty DataFrame\n",
      "Columns: [# of NaNs]\n",
      "Index: []\n"
     ]
    }
   ],
   "source": [
    "content_df['seasons'] = np.where(((content_df['type']=='MOVIE')&(content_df['seasons'].isna())), 0, content_df['seasons'])\n",
    "content_df['seasons'] = np.where(((content_df['type']=='SHOW')&(content_df['seasons'].isna())), -1, content_df['seasons'])\n",
    "\n",
    "for column in ['imdb_votes', 'imdb_score', 'tmdb_score', 'tmdb_popularity']:\n",
    "    content_df[column] = content_df[column].fillna(-1)\n",
    "\n",
    "content_df['description'] = content_df['description'].fillna('unavailable')\n",
    "\n",
    "content_df['imdb_id'] = content_df['imdb_id'].fillna('unknown')\n",
    "\n",
    "content_df['age_certification'] = content_df['age_certification'].fillna('not specified')\n",
    "\n",
    "content_df = content_df.dropna(subset=['title'])\n",
    "\n",
    "for column in ['genres', 'production_countries']:\n",
    "    content_df[column] = np.where((content_df[column]=='[]'), 'unknown', content_df[column])\n",
    "\n",
    "count_of_nans()"
   ]
  },
  {
   "cell_type": "markdown",
   "metadata": {},
   "source": [
    "<h3> Usuwanie Duplikatów"
   ]
  },
  {
   "cell_type": "code",
   "execution_count": 5,
   "metadata": {},
   "outputs": [],
   "source": [
    "for column in ['id', 'title', 'imdb_id']: \n",
    "    content_df = content_df.drop_duplicates(column)"
   ]
  },
  {
   "cell_type": "markdown",
   "metadata": {},
   "source": [
    "<h3> Kolumny Warunkowe"
   ]
  },
  {
   "cell_type": "code",
   "execution_count": 6,
   "metadata": {},
   "outputs": [],
   "source": [
    "content_df['title_small_letters'] = content_df[\"title\"].str.lower()\n",
    "\n",
    "children_categories = ['G', 'TV-G', 'TV-Y', 'TV-Y7']\n",
    "supervised_categories = ['PG', 'PG-13', 'TV-14', 'TV-PG']\n",
    "adults_categories = ['NC-17', 'R', 'TV-MA']\n",
    "\n",
    "conditions = [content_df['age_certification'].isin(children_categories),    \n",
    "                content_df['age_certification'].isin(supervised_categories),  \n",
    "                content_df['age_certification'].isin(adults_categories),\n",
    "                content_df['age_certification']=='not specified']\n",
    "                \n",
    "values = ['children', 'supervised', 'adults', 'not specified']\n",
    "\n",
    "content_df['age_group'] = np.select(conditions, values)\n",
    "\n",
    "conditions = [((content_df['type']=='SHOW')&(content_df['runtime']<=30)), \n",
    "            ((content_df['type']=='SHOW')&(content_df['runtime']>30)),\n",
    "            ((content_df['type']=='MOVIE')&(content_df['runtime']<60)),\n",
    "            ((content_df['type']=='MOVIE')&(content_df['runtime']>=60)&(content_df['runtime']<90)),\n",
    "            ((content_df['type']=='MOVIE')&(content_df['runtime']>=90))]\n",
    "\n",
    "values = ['short', 'long', 'short', 'medium', 'long']\n",
    "\n",
    "content_df['production_runtime_category'] = np.select(conditions, values)\n",
    "\n",
    "content_df['genres'] = content_df['genres'].str.replace('[', '').str.replace(']', '').str.replace(\"'\", '')\n",
    "\n",
    "content_df['main_genre'] = content_df['genres'].str.split(',').str.get(0)\n",
    "\n",
    "content_df['production_countries'] = content_df['production_countries'].str.replace('[', '').str.replace(']', '').str.replace(\"'\", '')\n",
    "\n",
    "content_df['main_production_country'] = content_df['production_countries'].str.split(',').str.get(0)"
   ]
  },
  {
   "cell_type": "markdown",
   "metadata": {},
   "source": [
    "<h3> Pobierz Dane z Wikipedii"
   ]
  },
  {
   "cell_type": "code",
   "execution_count": 7,
   "metadata": {},
   "outputs": [],
   "source": [
    "def scrape_wikipedia_table(url):\n",
    "    response = requests.get(url)\n",
    "    soup = BeautifulSoup(response.text, 'html.parser')\n",
    "    table = soup.find('table', {'class': 'wikitable'})\n",
    "    df = pd.read_html(str(table))[0]\n",
    "    return df\n",
    "\n",
    "countries_df = scrape_wikipedia_table('https://en.wikipedia.org/wiki/ISO_3166-2')\n",
    "\n",
    "countries_df = countries_df.loc[:, [\"Entry  (click to view codes)\", \"Country name (using title case)\"]]\n",
    "\n",
    "countries_df = countries_df.rename(columns={\"Entry  (click to view codes)\": \"Code\",\n",
    "                                             \"Country name (using title case)\": \"Country_Name\"})\n",
    "\n",
    "content_df = content_df.merge(countries_df, left_on='main_production_country', right_on='Code', how='left')\n",
    "\n",
    "content_df['Country_Name'] = content_df['Country_Name'].fillna('unknown')"
   ]
  },
  {
   "cell_type": "markdown",
   "metadata": {},
   "source": [
    "<h3> Typy Danych"
   ]
  },
  {
   "cell_type": "code",
   "execution_count": 8,
   "metadata": {},
   "outputs": [
    {
     "data": {
      "text/html": [
       "<div>\n",
       "<style scoped>\n",
       "    .dataframe tbody tr th:only-of-type {\n",
       "        vertical-align: middle;\n",
       "    }\n",
       "\n",
       "    .dataframe tbody tr th {\n",
       "        vertical-align: top;\n",
       "    }\n",
       "\n",
       "    .dataframe thead th {\n",
       "        text-align: right;\n",
       "    }\n",
       "</style>\n",
       "<table border=\"1\" class=\"dataframe\">\n",
       "  <thead>\n",
       "    <tr style=\"text-align: right;\">\n",
       "      <th></th>\n",
       "      <th>id</th>\n",
       "      <th>title</th>\n",
       "      <th>title_lower</th>\n",
       "      <th>type</th>\n",
       "      <th>description</th>\n",
       "      <th>release_year</th>\n",
       "      <th>country_code</th>\n",
       "      <th>country</th>\n",
       "      <th>genre</th>\n",
       "      <th>seasons</th>\n",
       "      <th>age_certification</th>\n",
       "      <th>age_group</th>\n",
       "      <th>runtime</th>\n",
       "      <th>runtime_type</th>\n",
       "      <th>imdb_score</th>\n",
       "      <th>imdb_votes</th>\n",
       "      <th>tmdb_popularity</th>\n",
       "      <th>tmdb_score</th>\n",
       "    </tr>\n",
       "  </thead>\n",
       "  <tbody>\n",
       "    <tr>\n",
       "      <th>0</th>\n",
       "      <td>ts300399</td>\n",
       "      <td>Five Came Back: The Reference Films</td>\n",
       "      <td>five came back: the reference films</td>\n",
       "      <td>SHOW</td>\n",
       "      <td>This collection includes 12 World War II-era p...</td>\n",
       "      <td>1945</td>\n",
       "      <td>US</td>\n",
       "      <td>United States of America</td>\n",
       "      <td>documentation</td>\n",
       "      <td>1</td>\n",
       "      <td>TV-MA</td>\n",
       "      <td>adults</td>\n",
       "      <td>51</td>\n",
       "      <td>long</td>\n",
       "      <td>-1.0</td>\n",
       "      <td>-1</td>\n",
       "      <td>0.600</td>\n",
       "      <td>-1.000</td>\n",
       "    </tr>\n",
       "    <tr>\n",
       "      <th>1</th>\n",
       "      <td>tm84618</td>\n",
       "      <td>Taxi Driver</td>\n",
       "      <td>taxi driver</td>\n",
       "      <td>MOVIE</td>\n",
       "      <td>A mentally unstable Vietnam War veteran works ...</td>\n",
       "      <td>1976</td>\n",
       "      <td>US</td>\n",
       "      <td>United States of America</td>\n",
       "      <td>drama</td>\n",
       "      <td>0</td>\n",
       "      <td>R</td>\n",
       "      <td>adults</td>\n",
       "      <td>114</td>\n",
       "      <td>long</td>\n",
       "      <td>8.2</td>\n",
       "      <td>808582</td>\n",
       "      <td>40.965</td>\n",
       "      <td>8.179</td>\n",
       "    </tr>\n",
       "  </tbody>\n",
       "</table>\n",
       "</div>"
      ],
      "text/plain": [
       "         id                                title  \\\n",
       "0  ts300399  Five Came Back: The Reference Films   \n",
       "1   tm84618                          Taxi Driver   \n",
       "\n",
       "                           title_lower   type  \\\n",
       "0  five came back: the reference films   SHOW   \n",
       "1                          taxi driver  MOVIE   \n",
       "\n",
       "                                         description  release_year  \\\n",
       "0  This collection includes 12 World War II-era p...          1945   \n",
       "1  A mentally unstable Vietnam War veteran works ...          1976   \n",
       "\n",
       "  country_code                   country          genre  seasons  \\\n",
       "0           US  United States of America  documentation        1   \n",
       "1           US  United States of America          drama        0   \n",
       "\n",
       "  age_certification age_group  runtime runtime_type  imdb_score  imdb_votes  \\\n",
       "0             TV-MA    adults       51         long        -1.0          -1   \n",
       "1                 R    adults      114         long         8.2      808582   \n",
       "\n",
       "   tmdb_popularity  tmdb_score  \n",
       "0            0.600      -1.000  \n",
       "1           40.965       8.179  "
      ]
     },
     "execution_count": 8,
     "metadata": {},
     "output_type": "execute_result"
    }
   ],
   "source": [
    "string_fields = [\"id\", \"title\", \"type\", \"description\", \"age_certification\", \"genres\", \"production_countries\", \"imdb_id\", \"title_small_letters\", \"age_group\", \"production_runtime_category\", \"main_genre\", \"main_production_country\", \"Code\", \"Country_Name\"]\n",
    "\n",
    "integer_fields = [\"release_year\", \"runtime\", \"seasons\", \"imdb_votes\"]\n",
    "\n",
    "float_fields = [\"imdb_score\", \"tmdb_popularity\", \"tmdb_score\"]\n",
    "\n",
    "for column in string_fields:\n",
    "    content_df[column] = content_df[column].astype(str)\n",
    "\n",
    "for column in integer_fields:\n",
    "    content_df[column] = content_df[column].astype(int)\n",
    "\n",
    "for column in float_fields:\n",
    "    content_df[column] = content_df[column].astype(float)\n",
    "\n",
    "content_df = content_df.loc[:, ['id', 'title', 'title_small_letters', 'type', 'description', 'release_year', 'main_production_country', 'Country_Name', 'main_genre', 'seasons', 'age_certification', 'age_group', 'runtime', 'production_runtime_category', 'imdb_score', 'imdb_votes', 'tmdb_popularity','tmdb_score']]\n",
    "\n",
    "content_df = content_df.rename(columns={'title_small_letters': 'title_lower', 'main_production_country': 'country_code', 'Country_Name': 'country', 'main_genre': 'genre', 'production_runtime_category': 'runtime_type'})\n",
    "\n",
    "content_df.reset_index(drop=True, inplace=True)\n",
    "\n",
    "content_df.head(2)"
   ]
  },
  {
   "cell_type": "markdown",
   "metadata": {},
   "source": [
    "<h3> Przygotowanie Zbioru Danych z Ocenami Krytyków i Widzów "
   ]
  },
  {
   "cell_type": "code",
   "execution_count": 9,
   "metadata": {},
   "outputs": [
    {
     "data": {
      "text/html": [
       "<div>\n",
       "<style scoped>\n",
       "    .dataframe tbody tr th:only-of-type {\n",
       "        vertical-align: middle;\n",
       "    }\n",
       "\n",
       "    .dataframe tbody tr th {\n",
       "        vertical-align: top;\n",
       "    }\n",
       "\n",
       "    .dataframe thead th {\n",
       "        text-align: right;\n",
       "    }\n",
       "</style>\n",
       "<table border=\"1\" class=\"dataframe\">\n",
       "  <thead>\n",
       "    <tr style=\"text-align: right;\">\n",
       "      <th></th>\n",
       "      <th>title</th>\n",
       "      <th>title_lower</th>\n",
       "      <th>critic_score</th>\n",
       "      <th>audience_score</th>\n",
       "    </tr>\n",
       "  </thead>\n",
       "  <tbody>\n",
       "    <tr>\n",
       "      <th>0</th>\n",
       "      <td>The Umbrella Academy</td>\n",
       "      <td>the umbrella academy</td>\n",
       "      <td>85</td>\n",
       "      <td>78</td>\n",
       "    </tr>\n",
       "    <tr>\n",
       "      <th>1</th>\n",
       "      <td>Man vs. Bee</td>\n",
       "      <td>man vs. bee</td>\n",
       "      <td>62</td>\n",
       "      <td>62</td>\n",
       "    </tr>\n",
       "    <tr>\n",
       "      <th>2</th>\n",
       "      <td>Stranger Things</td>\n",
       "      <td>stranger things</td>\n",
       "      <td>91</td>\n",
       "      <td>91</td>\n",
       "    </tr>\n",
       "    <tr>\n",
       "      <th>3</th>\n",
       "      <td>Peaky Blinders</td>\n",
       "      <td>peaky blinders</td>\n",
       "      <td>94</td>\n",
       "      <td>93</td>\n",
       "    </tr>\n",
       "    <tr>\n",
       "      <th>4</th>\n",
       "      <td>You Don't Know Me</td>\n",
       "      <td>you don't know me</td>\n",
       "      <td>-1</td>\n",
       "      <td>-1</td>\n",
       "    </tr>\n",
       "  </tbody>\n",
       "</table>\n",
       "</div>"
      ],
      "text/plain": [
       "                  title           title_lower critic_score  audience_score\n",
       "0  The Umbrella Academy  the umbrella academy           85              78\n",
       "1           Man vs. Bee           man vs. bee           62              62\n",
       "2       Stranger Things       stranger things           91              91\n",
       "3        Peaky Blinders        peaky blinders           94              93\n",
       "4     You Don't Know Me     you don't know me           -1              -1"
      ]
     },
     "execution_count": 9,
     "metadata": {},
     "output_type": "execute_result"
    }
   ],
   "source": [
    "shows_links_df = shows_links_df[shows_links_df['Network']=='Netflix']\n",
    "\n",
    "shows_links_df = shows_links_df.loc[:, [\"Show\", \"Critic Score\", \"Audience Score\"]]\n",
    "\n",
    "shows_links_df['title_lower'] = shows_links_df['Show'].str.lower()\n",
    "\n",
    "for column in [\"Critic Score\", \"Audience Score\"]:\n",
    "    shows_links_df[column] = shows_links_df[column].str.replace('%', '').str.replace('--', '-1')\n",
    "\n",
    "if column in ['Show', 'title_lower']:\n",
    "    shows_links_df[column] = shows_links_df[column].astype(str)\n",
    "else: \n",
    "    shows_links_df[column] = shows_links_df[column].astype(int)\n",
    "\n",
    "shows_links_df = shows_links_df.rename(columns={'Show': 'title', \"Critic Score\": 'critic_score', \"Audience Score\": 'audience_score'})\n",
    "\n",
    "shows_links_df = shows_links_df.loc[:, [\"title\", \"title_lower\", \"critic_score\", \"audience_score\"]]\n",
    "\n",
    "shows_links_df.reset_index(drop=True, inplace=True)\n",
    "\n",
    "shows_links_df.head(5)"
   ]
  },
  {
   "cell_type": "markdown",
   "metadata": {},
   "source": [
    "<h3> Przygotowanie Zbioru Danych z Recenzjami Krytyków "
   ]
  },
  {
   "cell_type": "code",
   "execution_count": 10,
   "metadata": {},
   "outputs": [
    {
     "data": {
      "text/html": [
       "<div>\n",
       "<style scoped>\n",
       "    .dataframe tbody tr th:only-of-type {\n",
       "        vertical-align: middle;\n",
       "    }\n",
       "\n",
       "    .dataframe tbody tr th {\n",
       "        vertical-align: top;\n",
       "    }\n",
       "\n",
       "    .dataframe thead th {\n",
       "        text-align: right;\n",
       "    }\n",
       "</style>\n",
       "<table border=\"1\" class=\"dataframe\">\n",
       "  <thead>\n",
       "    <tr style=\"text-align: right;\">\n",
       "      <th></th>\n",
       "      <th>title</th>\n",
       "      <th>title_lower</th>\n",
       "      <th>review</th>\n",
       "      <th>sentiment</th>\n",
       "    </tr>\n",
       "  </thead>\n",
       "  <tbody>\n",
       "    <tr>\n",
       "      <th>0</th>\n",
       "      <td>Avatar: The Last Airbender</td>\n",
       "      <td>avatar: the last airbender</td>\n",
       "      <td>A stalwart example of allegory's power to info...</td>\n",
       "      <td>1</td>\n",
       "    </tr>\n",
       "    <tr>\n",
       "      <th>1</th>\n",
       "      <td>Avatar: The Last Airbender</td>\n",
       "      <td>avatar: the last airbender</td>\n",
       "      <td>Great characters, detailed fantasy worldbuildi...</td>\n",
       "      <td>1</td>\n",
       "    </tr>\n",
       "  </tbody>\n",
       "</table>\n",
       "</div>"
      ],
      "text/plain": [
       "                        title                 title_lower  \\\n",
       "0  Avatar: The Last Airbender  avatar: the last airbender   \n",
       "1  Avatar: The Last Airbender  avatar: the last airbender   \n",
       "\n",
       "                                              review  sentiment  \n",
       "0  A stalwart example of allegory's power to info...          1  \n",
       "1  Great characters, detailed fantasy worldbuildi...          1  "
      ]
     },
     "execution_count": 10,
     "metadata": {},
     "output_type": "execute_result"
    }
   ],
   "source": [
    "critics_reviews_df = critics_reviews_df.merge(shows_links_df[['title','title_lower']],left_on='Show',right_on='title',how='left')\n",
    "\n",
    "critics_reviews_df = critics_reviews_df.dropna()\n",
    "\n",
    "critics_reviews_df = critics_reviews_df.loc[:, ['Show', 'title_lower', 'Review', 'Sentiment']]\n",
    "\n",
    "critics_reviews_df = critics_reviews_df.rename(columns={'Show': 'title', 'Review': 'review', 'Sentiment': 'sentiment'})\n",
    "\n",
    "for column in ['title', 'title_lower', 'review']:\n",
    "    critics_reviews_df[column] = critics_reviews_df[column].astype(str)\n",
    "\n",
    "for column in integer_fields:\n",
    "    critics_reviews_df['sentiment'] = critics_reviews_df[\"sentiment\"].astype(int)\n",
    "\n",
    "critics_reviews_df.reset_index(drop=True, inplace=True)\n",
    "\n",
    "critics_reviews_df.head(2)"
   ]
  },
  {
   "cell_type": "markdown",
   "metadata": {},
   "source": [
    "<h3> Przygotowanie Zbioru Danych z Recenzjami Widzów "
   ]
  },
  {
   "cell_type": "code",
   "execution_count": 11,
   "metadata": {},
   "outputs": [
    {
     "data": {
      "text/html": [
       "<div>\n",
       "<style scoped>\n",
       "    .dataframe tbody tr th:only-of-type {\n",
       "        vertical-align: middle;\n",
       "    }\n",
       "\n",
       "    .dataframe tbody tr th {\n",
       "        vertical-align: top;\n",
       "    }\n",
       "\n",
       "    .dataframe thead th {\n",
       "        text-align: right;\n",
       "    }\n",
       "</style>\n",
       "<table border=\"1\" class=\"dataframe\">\n",
       "  <thead>\n",
       "    <tr style=\"text-align: right;\">\n",
       "      <th></th>\n",
       "      <th>title</th>\n",
       "      <th>title_lower</th>\n",
       "      <th>review</th>\n",
       "      <th>rating</th>\n",
       "    </tr>\n",
       "  </thead>\n",
       "  <tbody>\n",
       "    <tr>\n",
       "      <th>0</th>\n",
       "      <td>Avatar: The Last Airbender</td>\n",
       "      <td>avatar: the last airbender</td>\n",
       "      <td>This is a show for children, yet it is far mor...</td>\n",
       "      <td>5.0</td>\n",
       "    </tr>\n",
       "    <tr>\n",
       "      <th>1</th>\n",
       "      <td>Avatar: The Last Airbender</td>\n",
       "      <td>avatar: the last airbender</td>\n",
       "      <td>This is overall a pretty amazing show. I did f...</td>\n",
       "      <td>4.5</td>\n",
       "    </tr>\n",
       "  </tbody>\n",
       "</table>\n",
       "</div>"
      ],
      "text/plain": [
       "                        title                 title_lower  \\\n",
       "0  Avatar: The Last Airbender  avatar: the last airbender   \n",
       "1  Avatar: The Last Airbender  avatar: the last airbender   \n",
       "\n",
       "                                              review  rating  \n",
       "0  This is a show for children, yet it is far mor...     5.0  \n",
       "1  This is overall a pretty amazing show. I did f...     4.5  "
      ]
     },
     "execution_count": 11,
     "metadata": {},
     "output_type": "execute_result"
    }
   ],
   "source": [
    "users_reviews_df = users_reviews_df.merge(shows_links_df[['title','title_lower']],left_on='Show',right_on='title',how='left')\n",
    "\n",
    "users_reviews_df = users_reviews_df.dropna()\n",
    "\n",
    "users_reviews_df = users_reviews_df.loc[:, ['Show', 'title_lower', 'Review', 'Rating']]\n",
    "\n",
    "users_reviews_df = users_reviews_df.rename(columns={'Show': 'title', 'Review': 'review', 'Rating': 'rating'})\n",
    "\n",
    "for column in ['title', 'title_lower', 'review']:\n",
    "    users_reviews_df[column] = users_reviews_df[column].astype(str)\n",
    "\n",
    "users_reviews_df['rating'] = users_reviews_df[\"rating\"].astype(float)\n",
    "\n",
    "users_reviews_df.reset_index(drop=True, inplace=True)\n",
    "\n",
    "users_reviews_df.head(2)"
   ]
  },
  {
   "cell_type": "markdown",
   "metadata": {},
   "source": [
    "<h3> Przygotowanie Zbioru Danych z Opiniami o Aplikacji "
   ]
  },
  {
   "cell_type": "code",
   "execution_count": 13,
   "metadata": {},
   "outputs": [
    {
     "data": {
      "text/html": [
       "<div>\n",
       "<style scoped>\n",
       "    .dataframe tbody tr th:only-of-type {\n",
       "        vertical-align: middle;\n",
       "    }\n",
       "\n",
       "    .dataframe tbody tr th {\n",
       "        vertical-align: top;\n",
       "    }\n",
       "\n",
       "    .dataframe thead th {\n",
       "        text-align: right;\n",
       "    }\n",
       "</style>\n",
       "<table border=\"1\" class=\"dataframe\">\n",
       "  <thead>\n",
       "    <tr style=\"text-align: right;\">\n",
       "      <th></th>\n",
       "      <th>review_id</th>\n",
       "      <th>reviewer_id</th>\n",
       "      <th>review</th>\n",
       "      <th>review_rating</th>\n",
       "      <th>review_likes</th>\n",
       "      <th>review_date</th>\n",
       "    </tr>\n",
       "  </thead>\n",
       "  <tbody>\n",
       "    <tr>\n",
       "      <th>0</th>\n",
       "      <td>7e73f80e-a8fd-4ff3-b09b-502f0ad058ff</td>\n",
       "      <td>152618553977019693742</td>\n",
       "      <td>Works great on my Evo! Glad android phones are...</td>\n",
       "      <td>5</td>\n",
       "      <td>1</td>\n",
       "      <td>2011-05-12</td>\n",
       "    </tr>\n",
       "    <tr>\n",
       "      <th>1</th>\n",
       "      <td>dab55eca-c2a0-45a8-93e3-9860c1c548da</td>\n",
       "      <td>234382942865437071667</td>\n",
       "      <td>Works great on HTC incredible. Can't wait to t...</td>\n",
       "      <td>5</td>\n",
       "      <td>1</td>\n",
       "      <td>2011-05-12</td>\n",
       "    </tr>\n",
       "  </tbody>\n",
       "</table>\n",
       "</div>"
      ],
      "text/plain": [
       "                              review_id            reviewer_id  \\\n",
       "0  7e73f80e-a8fd-4ff3-b09b-502f0ad058ff  152618553977019693742   \n",
       "1  dab55eca-c2a0-45a8-93e3-9860c1c548da  234382942865437071667   \n",
       "\n",
       "                                              review  review_rating  \\\n",
       "0  Works great on my Evo! Glad android phones are...              5   \n",
       "1  Works great on HTC incredible. Can't wait to t...              5   \n",
       "\n",
       "   review_likes review_date  \n",
       "0             1  2011-05-12  \n",
       "1             1  2011-05-12  "
      ]
     },
     "execution_count": 13,
     "metadata": {},
     "output_type": "execute_result"
    }
   ],
   "source": [
    "app_reviews_df = pd.read_csv(r\"/Users/kasiabonter/Desktop/Netflix Datasets/Netflix_App_Reviews_Data.csv\")\n",
    "\n",
    "for column in ['review_id', 'pseudo_author_id']: \n",
    "    app_reviews_df = app_reviews_df.drop_duplicates(column)\n",
    "\n",
    "app_reviews_df = app_reviews_df.dropna()\n",
    "\n",
    "app_reviews_df = app_reviews_df.loc[:, [\"review_id\", \"pseudo_author_id\", \"review_text\", \"review_rating\", \"review_likes\", \"review_timestamp\"]]\n",
    "\n",
    "app_reviews_df = app_reviews_df.rename(columns={\"pseudo_author_id\": 'reviewer_id', \"review_text\": 'review', \"review_timestamp\": 'review_date'})\n",
    "\n",
    "for column in [\"review_id\", \"reviewer_id\", \"review\", \"review_date\"]:\n",
    "    app_reviews_df[column] = app_reviews_df[column].astype(str)\n",
    "\n",
    "for column in [\"review_rating\", \"review_likes\"]:\n",
    "    app_reviews_df[column] = app_reviews_df[column].astype(int)\n",
    "\n",
    "app_reviews_df['review_date'] = app_reviews_df['review_date'].str[:10]\n",
    "\n",
    "app_reviews_df['review_date'] = pd.to_datetime(app_reviews_df['review_date'])\n",
    "\n",
    "app_reviews_df.head(2)"
   ]
  },
  {
   "cell_type": "markdown",
   "metadata": {},
   "source": [
    "<h3> Eksport plików"
   ]
  },
  {
   "cell_type": "code",
   "execution_count": null,
   "metadata": {},
   "outputs": [],
   "source": [
    "content_df.to_xlsx(r\"/Users/kasiabonter/Desktop/Netflix Datasets/Netflix_Productions_Data_processed.xlsx\")\n",
    "app_reviews_df.to_xlsx(r\"/Users/kasiabonter/Desktop/Netflix Datasets/Netflix_App_Reviews_Data_processed.xlsx\")\n",
    "users_reviews_df.to_xlsx(r\"/Users/kasiabonter/Desktop/Netflix Datasets/Netflix_Users_Reviews_processed.xlsx\")\n",
    "critics_reviews_df.to_xlsx(r\"/Users/kasiabonter/Desktop/Netflix Datasets/Netflix_Critics_Reviews_processed.xlsx\")\n",
    "shows_links_df.to_xlsx(r\"/Users/kasiabonter/Desktop/Netflix Datasets/Netflix_TV_Shows_Links_processed.xlsx\")"
   ]
  }
 ],
 "metadata": {
  "kernelspec": {
   "display_name": "Python 3",
   "language": "python",
   "name": "python3"
  },
  "language_info": {
   "codemirror_mode": {
    "name": "ipython",
    "version": 3
   },
   "file_extension": ".py",
   "mimetype": "text/x-python",
   "name": "python",
   "nbconvert_exporter": "python",
   "pygments_lexer": "ipython3",
   "version": "3.12.3"
  }
 },
 "nbformat": 4,
 "nbformat_minor": 2
}
